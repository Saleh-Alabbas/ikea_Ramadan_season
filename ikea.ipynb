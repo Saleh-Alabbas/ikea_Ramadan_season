{
 "cells": [
  {
   "cell_type": "markdown",
   "metadata": {},
   "source": [
    "# IKEA Furniture\n",
    "This is a Kaggle data set (https://www.kaggle.com/ahmedkallam/ikea-sa-furniture-web-scraping) that was collected by web scraping the IKEA Saudi Aribia website: https://www.ikea.com/sa/en/cat/furniture-fu001/\n",
    "\n",
    "the data was collected at 2020-04-20 (**27 Shaaban** 1441, Three days before Ramadan month).\n",
    "which mean that the data was collected at the beginning of **Ramadan season**."
   ]
  },
  {
   "cell_type": "markdown",
   "metadata": {},
   "source": [
    "## Exploratory Analysis\n"
   ]
  },
  {
   "cell_type": "markdown",
   "metadata": {},
   "source": [
    "### Importing pakcges & our data"
   ]
  },
  {
   "cell_type": "code",
   "execution_count": 1,
   "metadata": {},
   "outputs": [],
   "source": [
    "\n",
    "import numpy as np\n",
    "import pandas as pd\n",
    "import matplotlib.pyplot as plt\n",
    "import seaborn as sns\n"
   ]
  },
  {
   "cell_type": "code",
   "execution_count": 2,
   "metadata": {},
   "outputs": [
    {
     "data": {
      "text/html": [
       "<div>\n",
       "<style scoped>\n",
       "    .dataframe tbody tr th:only-of-type {\n",
       "        vertical-align: middle;\n",
       "    }\n",
       "\n",
       "    .dataframe tbody tr th {\n",
       "        vertical-align: top;\n",
       "    }\n",
       "\n",
       "    .dataframe thead th {\n",
       "        text-align: right;\n",
       "    }\n",
       "</style>\n",
       "<table border=\"1\" class=\"dataframe\">\n",
       "  <thead>\n",
       "    <tr style=\"text-align: right;\">\n",
       "      <th></th>\n",
       "      <th>item_id</th>\n",
       "      <th>name</th>\n",
       "      <th>category</th>\n",
       "      <th>price</th>\n",
       "      <th>old_price</th>\n",
       "      <th>sellable_online</th>\n",
       "      <th>link</th>\n",
       "      <th>other_colors</th>\n",
       "      <th>short_description</th>\n",
       "      <th>designer</th>\n",
       "      <th>depth</th>\n",
       "      <th>height</th>\n",
       "      <th>width</th>\n",
       "    </tr>\n",
       "  </thead>\n",
       "  <tbody>\n",
       "    <tr>\n",
       "      <th>0</th>\n",
       "      <td>90420332</td>\n",
       "      <td>FREKVENS</td>\n",
       "      <td>Bar furniture</td>\n",
       "      <td>265.0</td>\n",
       "      <td>No old price</td>\n",
       "      <td>True</td>\n",
       "      <td>https://www.ikea.com/sa/en/p/frekvens-bar-tabl...</td>\n",
       "      <td>No</td>\n",
       "      <td>Bar table, in/outdoor,          51x51 cm</td>\n",
       "      <td>Nicholai Wiig Hansen</td>\n",
       "      <td>NaN</td>\n",
       "      <td>99.0</td>\n",
       "      <td>51.0</td>\n",
       "    </tr>\n",
       "    <tr>\n",
       "      <th>1</th>\n",
       "      <td>368814</td>\n",
       "      <td>NORDVIKEN</td>\n",
       "      <td>Bar furniture</td>\n",
       "      <td>995.0</td>\n",
       "      <td>No old price</td>\n",
       "      <td>False</td>\n",
       "      <td>https://www.ikea.com/sa/en/p/nordviken-bar-tab...</td>\n",
       "      <td>No</td>\n",
       "      <td>Bar table,          140x80 cm</td>\n",
       "      <td>Francis Cayouette</td>\n",
       "      <td>NaN</td>\n",
       "      <td>105.0</td>\n",
       "      <td>80.0</td>\n",
       "    </tr>\n",
       "    <tr>\n",
       "      <th>2</th>\n",
       "      <td>9333523</td>\n",
       "      <td>NORDVIKEN / NORDVIKEN</td>\n",
       "      <td>Bar furniture</td>\n",
       "      <td>2095.0</td>\n",
       "      <td>No old price</td>\n",
       "      <td>False</td>\n",
       "      <td>https://www.ikea.com/sa/en/p/nordviken-nordvik...</td>\n",
       "      <td>No</td>\n",
       "      <td>Bar table and 4 bar stools</td>\n",
       "      <td>Francis Cayouette</td>\n",
       "      <td>NaN</td>\n",
       "      <td>NaN</td>\n",
       "      <td>NaN</td>\n",
       "    </tr>\n",
       "    <tr>\n",
       "      <th>3</th>\n",
       "      <td>80155205</td>\n",
       "      <td>STIG</td>\n",
       "      <td>Bar furniture</td>\n",
       "      <td>69.0</td>\n",
       "      <td>No old price</td>\n",
       "      <td>True</td>\n",
       "      <td>https://www.ikea.com/sa/en/p/stig-bar-stool-wi...</td>\n",
       "      <td>Yes</td>\n",
       "      <td>Bar stool with backrest,          74 cm</td>\n",
       "      <td>Henrik Preutz</td>\n",
       "      <td>50.0</td>\n",
       "      <td>100.0</td>\n",
       "      <td>60.0</td>\n",
       "    </tr>\n",
       "    <tr>\n",
       "      <th>4</th>\n",
       "      <td>30180504</td>\n",
       "      <td>NORBERG</td>\n",
       "      <td>Bar furniture</td>\n",
       "      <td>225.0</td>\n",
       "      <td>No old price</td>\n",
       "      <td>True</td>\n",
       "      <td>https://www.ikea.com/sa/en/p/norberg-wall-moun...</td>\n",
       "      <td>No</td>\n",
       "      <td>Wall-mounted drop-leaf table,         ...</td>\n",
       "      <td>Marcus Arvonen</td>\n",
       "      <td>60.0</td>\n",
       "      <td>43.0</td>\n",
       "      <td>74.0</td>\n",
       "    </tr>\n",
       "  </tbody>\n",
       "</table>\n",
       "</div>"
      ],
      "text/plain": [
       "    item_id                   name       category   price     old_price  \\\n",
       "0  90420332               FREKVENS  Bar furniture   265.0  No old price   \n",
       "1    368814              NORDVIKEN  Bar furniture   995.0  No old price   \n",
       "2   9333523  NORDVIKEN / NORDVIKEN  Bar furniture  2095.0  No old price   \n",
       "3  80155205                   STIG  Bar furniture    69.0  No old price   \n",
       "4  30180504                NORBERG  Bar furniture   225.0  No old price   \n",
       "\n",
       "   sellable_online                                               link  \\\n",
       "0             True  https://www.ikea.com/sa/en/p/frekvens-bar-tabl...   \n",
       "1            False  https://www.ikea.com/sa/en/p/nordviken-bar-tab...   \n",
       "2            False  https://www.ikea.com/sa/en/p/nordviken-nordvik...   \n",
       "3             True  https://www.ikea.com/sa/en/p/stig-bar-stool-wi...   \n",
       "4             True  https://www.ikea.com/sa/en/p/norberg-wall-moun...   \n",
       "\n",
       "  other_colors                                  short_description  \\\n",
       "0           No           Bar table, in/outdoor,          51x51 cm   \n",
       "1           No                      Bar table,          140x80 cm   \n",
       "2           No                         Bar table and 4 bar stools   \n",
       "3          Yes            Bar stool with backrest,          74 cm   \n",
       "4           No          Wall-mounted drop-leaf table,         ...   \n",
       "\n",
       "               designer  depth  height  width  \n",
       "0  Nicholai Wiig Hansen    NaN    99.0   51.0  \n",
       "1     Francis Cayouette    NaN   105.0   80.0  \n",
       "2     Francis Cayouette    NaN     NaN    NaN  \n",
       "3         Henrik Preutz   50.0   100.0   60.0  \n",
       "4        Marcus Arvonen   60.0    43.0   74.0  "
      ]
     },
     "execution_count": 2,
     "metadata": {},
     "output_type": "execute_result"
    }
   ],
   "source": [
    "ikea = pd.read_csv(\"IKEA_SA_Furniture_Web_Scrapings_sss.csv\", index_col = 0)\n",
    "ikea.head()"
   ]
  },
  {
   "cell_type": "markdown",
   "metadata": {},
   "source": [
    "### Features Dictionary\n"
   ]
  },
  {
   "cell_type": "markdown",
   "metadata": {},
   "source": [
    "- item_id: item id wich can be used later to merge with other IKEA dataframes.\n",
    "- name: the commercial name of items.\n",
    "- category: the furniture category that the item belongs to (Sofas, beds, chairs, Trolleys,…).\n",
    "- Price: the current price in Saudi Riyals.\n",
    "- old_price: the price of item in Saudi Riyals before discount.\n",
    "- sellable_Online: if the item is available for online purchasing or in-stores only (Binary).\n",
    "- link: the web link of the item.\n",
    "- other_colors: if other colors are available for the item, or just one color as displayed in the website (Binary).\n",
    "- Short_description: a brief description of the item.\n",
    "- designer: The name of the designer who designed the item.\n",
    "- width: Width of the item in Centimeter.\n",
    "- height: Height of the item in Centimeter.\n",
    "- depth: Depth of the item in Centimeter."
   ]
  },
  {
   "cell_type": "markdown",
   "metadata": {},
   "source": [
    "### Exploring the data"
   ]
  },
  {
   "cell_type": "code",
   "execution_count": 3,
   "metadata": {},
   "outputs": [
    {
     "name": "stdout",
     "output_type": "stream",
     "text": [
      "<class 'pandas.core.frame.DataFrame'>\n",
      "Int64Index: 3694 entries, 0 to 3693\n",
      "Data columns (total 13 columns):\n",
      " #   Column             Non-Null Count  Dtype  \n",
      "---  ------             --------------  -----  \n",
      " 0   item_id            3694 non-null   int64  \n",
      " 1   name               3694 non-null   object \n",
      " 2   category           3694 non-null   object \n",
      " 3   price              3694 non-null   float64\n",
      " 4   old_price          3694 non-null   object \n",
      " 5   sellable_online    3694 non-null   bool   \n",
      " 6   link               3694 non-null   object \n",
      " 7   other_colors       3694 non-null   object \n",
      " 8   short_description  3694 non-null   object \n",
      " 9   designer           3694 non-null   object \n",
      " 10  depth              2231 non-null   float64\n",
      " 11  height             2706 non-null   float64\n",
      " 12  width              3105 non-null   float64\n",
      "dtypes: bool(1), float64(4), int64(1), object(7)\n",
      "memory usage: 378.8+ KB\n"
     ]
    }
   ],
   "source": [
    "ikea.info()"
   ]
  },
  {
   "cell_type": "markdown",
   "metadata": {},
   "source": [
    "based on this summery, several issiues need to be investegated:\n",
    "1. old_price Dtype is \"opject\", while it is expected to be \"float64\".\n",
    "2. other_colors Dtype is \"opject\", while it is expected to be \"bool\"\n",
    "3. The columns: depth, height and width have several missing values."
   ]
  },
  {
   "cell_type": "markdown",
   "metadata": {},
   "source": [
    "#### investegating each column"
   ]
  },
  {
   "cell_type": "markdown",
   "metadata": {},
   "source": [
    "##### item_id  &  name columns"
   ]
  },
  {
   "cell_type": "code",
   "execution_count": 4,
   "metadata": {},
   "outputs": [
    {
     "data": {
      "text/plain": [
       "0"
      ]
     },
     "execution_count": 4,
     "metadata": {},
     "output_type": "execute_result"
    }
   ],
   "source": [
    "ikea.duplicated().sum()"
   ]
  },
  {
   "cell_type": "code",
   "execution_count": 5,
   "metadata": {},
   "outputs": [
    {
     "data": {
      "text/plain": [
       "item_id     2962\n",
       "name         607\n",
       "category      17\n",
       "designer     381\n",
       "dtype: int64"
      ]
     },
     "execution_count": 5,
     "metadata": {},
     "output_type": "execute_result"
    }
   ],
   "source": [
    "ikea[[\"item_id\", \"name\", \"category\", \"designer\"]].nunique()"
   ]
  },
  {
   "cell_type": "markdown",
   "metadata": {},
   "source": [
    "There is no duplicated (repeated) records, but yet there are duplicated item_ids. on the other hand, duplicated names are expected because the same item might has deferent sizes but that will not change its name."
   ]
  },
  {
   "cell_type": "code",
   "execution_count": 6,
   "metadata": {},
   "outputs": [
    {
     "data": {
      "text/html": [
       "<div>\n",
       "<style scoped>\n",
       "    .dataframe tbody tr th:only-of-type {\n",
       "        vertical-align: middle;\n",
       "    }\n",
       "\n",
       "    .dataframe tbody tr th {\n",
       "        vertical-align: top;\n",
       "    }\n",
       "\n",
       "    .dataframe thead th {\n",
       "        text-align: right;\n",
       "    }\n",
       "</style>\n",
       "<table border=\"1\" class=\"dataframe\">\n",
       "  <thead>\n",
       "    <tr style=\"text-align: right;\">\n",
       "      <th></th>\n",
       "      <th>item_id</th>\n",
       "      <th>name</th>\n",
       "      <th>category</th>\n",
       "      <th>price</th>\n",
       "      <th>old_price</th>\n",
       "      <th>sellable_online</th>\n",
       "      <th>link</th>\n",
       "      <th>other_colors</th>\n",
       "      <th>short_description</th>\n",
       "      <th>designer</th>\n",
       "      <th>depth</th>\n",
       "      <th>height</th>\n",
       "      <th>width</th>\n",
       "    </tr>\n",
       "  </thead>\n",
       "  <tbody>\n",
       "    <tr>\n",
       "      <th>784</th>\n",
       "      <td>30441554</td>\n",
       "      <td>TIMMERVIKEN</td>\n",
       "      <td>Bookcases &amp; shelving units</td>\n",
       "      <td>115.0</td>\n",
       "      <td>No old price</td>\n",
       "      <td>True</td>\n",
       "      <td>https://www.ikea.com/sa/en/p/timmerviken-door-...</td>\n",
       "      <td>No</td>\n",
       "      <td>Door,          60x64 cm</td>\n",
       "      <td>304.415.54 The door keeps your belongings hidd...</td>\n",
       "      <td>NaN</td>\n",
       "      <td>64.0</td>\n",
       "      <td>60.0</td>\n",
       "    </tr>\n",
       "    <tr>\n",
       "      <th>803</th>\n",
       "      <td>30441554</td>\n",
       "      <td>TIMMERVIKEN</td>\n",
       "      <td>Cabinets &amp; cupboards</td>\n",
       "      <td>115.0</td>\n",
       "      <td>No old price</td>\n",
       "      <td>True</td>\n",
       "      <td>https://www.ikea.com/sa/en/p/timmerviken-door-...</td>\n",
       "      <td>No</td>\n",
       "      <td>Door,          60x64 cm</td>\n",
       "      <td>304.415.54 The door keeps your belongings hidd...</td>\n",
       "      <td>NaN</td>\n",
       "      <td>64.0</td>\n",
       "      <td>60.0</td>\n",
       "    </tr>\n",
       "    <tr>\n",
       "      <th>3269</th>\n",
       "      <td>30441554</td>\n",
       "      <td>TIMMERVIKEN</td>\n",
       "      <td>TV &amp; media furniture</td>\n",
       "      <td>115.0</td>\n",
       "      <td>No old price</td>\n",
       "      <td>True</td>\n",
       "      <td>https://www.ikea.com/sa/en/p/timmerviken-door-...</td>\n",
       "      <td>No</td>\n",
       "      <td>Door,          60x64 cm</td>\n",
       "      <td>304.415.54 The door keeps your belongings hidd...</td>\n",
       "      <td>NaN</td>\n",
       "      <td>64.0</td>\n",
       "      <td>60.0</td>\n",
       "    </tr>\n",
       "  </tbody>\n",
       "</table>\n",
       "</div>"
      ],
      "text/plain": [
       "       item_id         name                    category  price     old_price  \\\n",
       "784   30441554  TIMMERVIKEN  Bookcases & shelving units  115.0  No old price   \n",
       "803   30441554  TIMMERVIKEN        Cabinets & cupboards  115.0  No old price   \n",
       "3269  30441554  TIMMERVIKEN        TV & media furniture  115.0  No old price   \n",
       "\n",
       "      sellable_online                                               link  \\\n",
       "784              True  https://www.ikea.com/sa/en/p/timmerviken-door-...   \n",
       "803              True  https://www.ikea.com/sa/en/p/timmerviken-door-...   \n",
       "3269             True  https://www.ikea.com/sa/en/p/timmerviken-door-...   \n",
       "\n",
       "     other_colors                short_description  \\\n",
       "784            No          Door,          60x64 cm   \n",
       "803            No          Door,          60x64 cm   \n",
       "3269           No          Door,          60x64 cm   \n",
       "\n",
       "                                               designer  depth  height  width  \n",
       "784   304.415.54 The door keeps your belongings hidd...    NaN    64.0   60.0  \n",
       "803   304.415.54 The door keeps your belongings hidd...    NaN    64.0   60.0  \n",
       "3269  304.415.54 The door keeps your belongings hidd...    NaN    64.0   60.0  "
      ]
     },
     "execution_count": 6,
     "metadata": {},
     "output_type": "execute_result"
    }
   ],
   "source": [
    "ikea[ikea.item_id.duplicated()]\n",
    "ikea[ikea.item_id == 30441554]"
   ]
  },
  {
   "cell_type": "markdown",
   "metadata": {},
   "source": [
    "the repeated item_ids are due to that an item might be categorize in deferent categories in the same time.\n",
    "Therfore such item was recorded once for each category."
   ]
  },
  {
   "cell_type": "markdown",
   "metadata": {},
   "source": [
    "##### price column"
   ]
  },
  {
   "cell_type": "code",
   "execution_count": 7,
   "metadata": {},
   "outputs": [
    {
     "data": {
      "text/plain": [
       "count    3694.000000\n",
       "mean     1078.208419\n",
       "std      1374.652494\n",
       "min         3.000000\n",
       "25%       180.900000\n",
       "50%       544.700000\n",
       "75%      1429.500000\n",
       "max      9585.000000\n",
       "Name: price, dtype: float64"
      ]
     },
     "execution_count": 7,
     "metadata": {},
     "output_type": "execute_result"
    }
   ],
   "source": [
    "ikea.price.describe()"
   ]
  },
  {
   "cell_type": "markdown",
   "metadata": {},
   "source": [
    "##### old_price"
   ]
  },
  {
   "cell_type": "code",
   "execution_count": 8,
   "metadata": {},
   "outputs": [
    {
     "data": {
      "text/plain": [
       "No old price    3040\n",
       "SR 995            12\n",
       "SR 1,385          11\n",
       "SR 595            10\n",
       "SR 275             8\n",
       "                ... \n",
       "SR 3,145           1\n",
       "SR 39              1\n",
       "SR 2,105           1\n",
       "SR 752             1\n",
       "SR 1,050           1\n",
       "Name: old_price, Length: 365, dtype: int64"
      ]
     },
     "execution_count": 8,
     "metadata": {},
     "output_type": "execute_result"
    }
   ],
   "source": [
    "ikea.old_price.value_counts()"
   ]
  },
  {
   "cell_type": "code",
   "execution_count": 9,
   "metadata": {},
   "outputs": [
    {
     "name": "stdout",
     "output_type": "stream",
     "text": [
      "17.7% of the items was discounted on 2020-04-20 (27 Shaaban 1441)\n"
     ]
    }
   ],
   "source": [
    "notdiscaunted = ikea[ikea.old_price == \"No old price\"].shape[0] \n",
    "print(f\"{round(((ikea.shape[0] - notdiscaunted)/ikea.shape[0]) * 100, 2)}% of the items was discounted on 2020-04-20 (27 Shaaban 1441)\")\n"
   ]
  },
  {
   "cell_type": "markdown",
   "metadata": {},
   "source": [
    "Notice that \"No old price\" mean that the old price of an item equal its current price.\n",
    "therefore,in the cleaning prossece this column will be converted to a column of floats.  "
   ]
  },
  {
   "cell_type": "markdown",
   "metadata": {},
   "source": [
    "##### other_colors"
   ]
  },
  {
   "cell_type": "code",
   "execution_count": 10,
   "metadata": {},
   "outputs": [
    {
     "data": {
      "image/png": "[encoded data removed]",
      "text/plain": [
       "<Figure size 432x288 with 1 Axes>"
      ]
     },
     "metadata": {},
     "output_type": "display_data"
    }
   ],
   "source": [
    "colorsOptions = ikea.other_colors.value_counts()\n",
    "plt.style.use(\"ggplot\")\n",
    "percentage = [round( colorsOptions[0]/sum(colorsOptions) *100, 2), round(colorsOptions[1]/sum(colorsOptions) *100, 2)]\n",
    "\n",
    "plt.pie(colorsOptions, labels= [f\"{percentage[0]}%\",f\"{percentage[1]}%\"] ,\n",
    "    labeldistance=0.5, colors=[\"#357960\", \"skyblue\"])\n",
    "\n",
    "plt.title(\"Dose the item have other colors\")     #b14e46\n",
    "plt.legend(colorsOptions.index)\n",
    "\n",
    "plt.show()"
   ]
  },
  {
   "cell_type": "markdown",
   "metadata": {},
   "source": [
    "##### sellable_online"
   ]
  },
  {
   "cell_type": "code",
   "execution_count": 11,
   "metadata": {},
   "outputs": [
    {
     "data": {
      "image/png": "[encoded data removed]",
      "text/plain": [
       "<Figure size 432x288 with 1 Axes>"
      ]
     },
     "metadata": {},
     "output_type": "display_data"
    }
   ],
   "source": [
    "onlinOptions = ikea.sellable_online.value_counts()\n",
    "plt.style.use(\"ggplot\")\n",
    "percentage = [round( onlinOptions[0]/sum(onlinOptions) *100, 2), round(onlinOptions[1]/sum(onlinOptions) *100, 2)]\n",
    "\n",
    "plt.pie(onlinOptions, labels= [f\"{percentage[True]}%\",f\"{percentage[False]}%\"] ,\n",
    "    labeldistance=1, colors=[\"skyblue\", \"#357960\"])\n",
    "\n",
    "plt.title(\"The sellable items onlin\")\n",
    "plt.legend([\"sellable online\", \"NOt sellable online\"])\n",
    "\n",
    "plt.show()"
   ]
  },
  {
   "cell_type": "markdown",
   "metadata": {},
   "source": [
    "##### designer"
   ]
  },
  {
   "cell_type": "code",
   "execution_count": 12,
   "metadata": {},
   "outputs": [
    {
     "name": "stdout",
     "output_type": "stream",
     "text": [
      "IKEA of Sweden                                                                                                                                                                                                                                                                                                                                                                                                                  828\n",
      "Ehlén Johansson                                                                                                                                                                                                                                                                                                                                                                                                                 161\n",
      "Francis Cayouette                                                                                                                                                                                                                                                                                                                                                                                                               151\n",
      "Ola Wihlborg                                                                                                                                                                                                                                                                                                                                                                                                                    134\n",
      "K Hagberg/M Hagberg                                                                                                                                                                                                                                                                                                                                                                                                             122\n",
      "                                                                                                                                                                                                                                                                                                                                                                                                                               ... \n",
      "P Süssmann/J Karlsson                                                                                                                                                                                                                                                                                                                                                                                                             1\n",
      "104.710.85 The chair legs are made of solid wood, which is a durable natural material.You sit comfortably thanks to the high back and seat with polyester wadding.For increased stability, re-tighten the screws about two weeks after assembly and when necessary.This chair has been tested for home use and meets the requirements for durability and safety, set forth in the following standards: EN 12520 and EN 1022.      1\n",
      "704.655.38 You sit comfortably thanks to the restful flexibility of the seat.You sit comfortably thanks to the padded seat.Velvet.The velvet reflects light in a characteristic way which may make the colour appear as if it changes.                                                                                                                                                                                            1\n",
      "904.710.86 The chair legs are made of solid wood, which is a durable natural material.You sit comfortably thanks to the high back and seat with polyester wadding.For increased stability, re-tighten the screws about two weeks after assembly and when necessary.This chair has been tested for home use and meets the requirements for durability and safety, set forth in the following standards: EN 12520 and EN 1022.      1\n",
      "IKEA of Sweden/Ehlén Johansson/Andreas Fredriksson                                                                                                                                                                                                                                                                                                                                                                                1\n",
      "Name: designer, Length: 381, dtype: int64\n"
     ]
    }
   ],
   "source": [
    "aa= ikea.designer.value_counts()\n",
    "print(aa)"
   ]
  },
  {
   "cell_type": "markdown",
   "metadata": {},
   "source": [
    "There are some troubling values in the desginer column, namly those with numbers at the beginning."
   ]
  },
  {
   "cell_type": "code",
   "execution_count": 13,
   "metadata": {},
   "outputs": [
    {
     "name": "stdout",
     "output_type": "stream",
     "text": [
      "102 (26.77%) of the unique values in the designer column are in fact long-descriptins of the items.\n"
     ]
    }
   ],
   "source": [
    "count=0\n",
    "for i in aa.index:\n",
    "    if i[0].isnumeric() :\n",
    "        count +=1\n",
    "print(f\"{count} ({round((count/len(aa)) *100, 2)}%) of the unique values in the designer column are in fact long-descriptins of the items.\")"
   ]
  },
  {
   "cell_type": "code",
   "execution_count": 14,
   "metadata": {},
   "outputs": [
    {
     "name": "stdout",
     "output_type": "stream",
     "text": [
      "The most important designers are:\n",
      "IKEA of Sweden                    828\n",
      "Ehlén Johansson                   161\n",
      "Francis Cayouette                 151\n",
      "Ola Wihlborg                      134\n",
      "K Hagberg/M Hagberg               122\n",
      "Jon Karlsson                      120\n",
      "Carina Bengs                       75\n",
      "Ehlén Johansson/IKEA of Sweden     75\n",
      "Henrik Preutz                      70\n",
      "IKEA of Sweden/Ehlén Johansson     70\n",
      "Studio Copenhagen                  64\n",
      "H Preutz/A Fredriksson             60\n",
      "Ebba Strandmark                    57\n",
      "K Malmvall/E Lilja Löwenhielm      55\n",
      "Nike Karlsson                      53\n",
      "Eva Lilja Löwenhielm               46\n",
      "Tord Björklund                     31\n",
      "Johan Kroon                        31\n",
      "Name: designer, dtype: int64\n"
     ]
    }
   ],
   "source": [
    "print(\"The most important designers are:\")\n",
    "print(aa[aa > 30])\n"
   ]
  },
  {
   "cell_type": "markdown",
   "metadata": {},
   "source": [
    "still there is another priblem with this column which is \"/\".\n",
    "For example, what is the deference between \"Ehlén Johansson\", \"Ehlén Johansson/IKEA of Sweden\" and \"IKEA of Sweden/Ehlén Johansson\"?\n",
    "- If they are the same we need to combine them. If this was the case, should they be combined in \"Ehlén Johansson\" or in \"IKEA of Sweden\"?"
   ]
  },
  {
   "cell_type": "markdown",
   "metadata": {},
   "source": [
    "##### category"
   ]
  },
  {
   "cell_type": "code",
   "execution_count": 15,
   "metadata": {},
   "outputs": [
    {
     "data": {
      "image/png": "[encoded data removed]",
      "text/plain": [
       "<Figure size 432x288 with 1 Axes>"
      ]
     },
     "metadata": {},
     "output_type": "display_data"
    }
   ],
   "source": [
    "vcc = ikea.category.value_counts()\n",
    "\n",
    "\n",
    "font = {'family': 'serif',\n",
    "        'weight': 'normal',\n",
    "        'size': 10,\n",
    "        }\n",
    "\n",
    "\n",
    "plt.bar(vcc.index, vcc, color=\"#357960\" )\n",
    "plt.xlabel(\"categories\")\n",
    "plt.xticks(rotation=90)\n",
    "plt.ylabel(\"items\")\n",
    "plt.title(\"items in each category\")\n",
    "\n",
    "\n",
    "plt.show()"
   ]
  },
  {
   "cell_type": "code",
   "execution_count": 16,
   "metadata": {},
   "outputs": [
    {
     "data": {
      "text/html": [
       "<div>\n",
       "<style scoped>\n",
       "    .dataframe tbody tr th:only-of-type {\n",
       "        vertical-align: middle;\n",
       "    }\n",
       "\n",
       "    .dataframe tbody tr th {\n",
       "        vertical-align: top;\n",
       "    }\n",
       "\n",
       "    .dataframe thead tr th {\n",
       "        text-align: left;\n",
       "    }\n",
       "\n",
       "    .dataframe thead tr:last-of-type th {\n",
       "        text-align: right;\n",
       "    }\n",
       "</style>\n",
       "<table border=\"1\" class=\"dataframe\">\n",
       "  <thead>\n",
       "    <tr>\n",
       "      <th></th>\n",
       "      <th colspan=\"4\" halign=\"left\">price</th>\n",
       "    </tr>\n",
       "    <tr>\n",
       "      <th></th>\n",
       "      <th>min</th>\n",
       "      <th>mean</th>\n",
       "      <th>max</th>\n",
       "      <th>std</th>\n",
       "    </tr>\n",
       "    <tr>\n",
       "      <th>category</th>\n",
       "      <th></th>\n",
       "      <th></th>\n",
       "      <th></th>\n",
       "      <th></th>\n",
       "    </tr>\n",
       "  </thead>\n",
       "  <tbody>\n",
       "    <tr>\n",
       "      <th>Bar furniture</th>\n",
       "      <td>40.0</td>\n",
       "      <td>679.55</td>\n",
       "      <td>2375.0</td>\n",
       "      <td>604.60</td>\n",
       "    </tr>\n",
       "    <tr>\n",
       "      <th>Beds</th>\n",
       "      <td>30.0</td>\n",
       "      <td>1647.43</td>\n",
       "      <td>9585.0</td>\n",
       "      <td>1807.96</td>\n",
       "    </tr>\n",
       "    <tr>\n",
       "      <th>Bookcases &amp; shelving units</th>\n",
       "      <td>3.0</td>\n",
       "      <td>519.42</td>\n",
       "      <td>4335.0</td>\n",
       "      <td>633.01</td>\n",
       "    </tr>\n",
       "    <tr>\n",
       "      <th>Cabinets &amp; cupboards</th>\n",
       "      <td>3.0</td>\n",
       "      <td>789.02</td>\n",
       "      <td>6480.0</td>\n",
       "      <td>987.91</td>\n",
       "    </tr>\n",
       "    <tr>\n",
       "      <th>Café furniture</th>\n",
       "      <td>145.0</td>\n",
       "      <td>553.88</td>\n",
       "      <td>1385.0</td>\n",
       "      <td>384.32</td>\n",
       "    </tr>\n",
       "    <tr>\n",
       "      <th>Chairs</th>\n",
       "      <td>11.4</td>\n",
       "      <td>1048.93</td>\n",
       "      <td>6965.0</td>\n",
       "      <td>1304.62</td>\n",
       "    </tr>\n",
       "    <tr>\n",
       "      <th>Chests of drawers &amp; drawer units</th>\n",
       "      <td>49.0</td>\n",
       "      <td>612.18</td>\n",
       "      <td>1880.0</td>\n",
       "      <td>450.98</td>\n",
       "    </tr>\n",
       "    <tr>\n",
       "      <th>Children's furniture</th>\n",
       "      <td>5.0</td>\n",
       "      <td>272.76</td>\n",
       "      <td>1545.0</td>\n",
       "      <td>251.90</td>\n",
       "    </tr>\n",
       "    <tr>\n",
       "      <th>Nursery furniture</th>\n",
       "      <td>5.0</td>\n",
       "      <td>393.66</td>\n",
       "      <td>1545.0</td>\n",
       "      <td>349.56</td>\n",
       "    </tr>\n",
       "    <tr>\n",
       "      <th>Outdoor furniture</th>\n",
       "      <td>9.0</td>\n",
       "      <td>859.83</td>\n",
       "      <td>5144.0</td>\n",
       "      <td>1167.82</td>\n",
       "    </tr>\n",
       "    <tr>\n",
       "      <th>Room dividers</th>\n",
       "      <td>189.0</td>\n",
       "      <td>932.00</td>\n",
       "      <td>2397.0</td>\n",
       "      <td>733.51</td>\n",
       "    </tr>\n",
       "    <tr>\n",
       "      <th>Sideboards, buffets &amp; console tables</th>\n",
       "      <td>295.0</td>\n",
       "      <td>1068.09</td>\n",
       "      <td>2100.0</td>\n",
       "      <td>583.87</td>\n",
       "    </tr>\n",
       "    <tr>\n",
       "      <th>Sofas &amp; armchairs</th>\n",
       "      <td>27.0</td>\n",
       "      <td>2004.02</td>\n",
       "      <td>9585.0</td>\n",
       "      <td>2059.25</td>\n",
       "    </tr>\n",
       "    <tr>\n",
       "      <th>TV &amp; media furniture</th>\n",
       "      <td>3.0</td>\n",
       "      <td>659.05</td>\n",
       "      <td>4260.0</td>\n",
       "      <td>916.27</td>\n",
       "    </tr>\n",
       "    <tr>\n",
       "      <th>Tables &amp; desks</th>\n",
       "      <td>9.0</td>\n",
       "      <td>1129.40</td>\n",
       "      <td>6965.0</td>\n",
       "      <td>1305.21</td>\n",
       "    </tr>\n",
       "    <tr>\n",
       "      <th>Trolleys</th>\n",
       "      <td>39.0</td>\n",
       "      <td>678.52</td>\n",
       "      <td>2295.0</td>\n",
       "      <td>658.90</td>\n",
       "    </tr>\n",
       "    <tr>\n",
       "      <th>Wardrobes</th>\n",
       "      <td>45.0</td>\n",
       "      <td>2162.14</td>\n",
       "      <td>8380.0</td>\n",
       "      <td>1402.39</td>\n",
       "    </tr>\n",
       "  </tbody>\n",
       "</table>\n",
       "</div>"
      ],
      "text/plain": [
       "                                      price                          \n",
       "                                        min     mean     max      std\n",
       "category                                                             \n",
       "Bar furniture                          40.0   679.55  2375.0   604.60\n",
       "Beds                                   30.0  1647.43  9585.0  1807.96\n",
       "Bookcases & shelving units              3.0   519.42  4335.0   633.01\n",
       "Cabinets & cupboards                    3.0   789.02  6480.0   987.91\n",
       "Café furniture                        145.0   553.88  1385.0   384.32\n",
       "Chairs                                 11.4  1048.93  6965.0  1304.62\n",
       "Chests of drawers & drawer units       49.0   612.18  1880.0   450.98\n",
       "Children's furniture                    5.0   272.76  1545.0   251.90\n",
       "Nursery furniture                       5.0   393.66  1545.0   349.56\n",
       "Outdoor furniture                       9.0   859.83  5144.0  1167.82\n",
       "Room dividers                         189.0   932.00  2397.0   733.51\n",
       "Sideboards, buffets & console tables  295.0  1068.09  2100.0   583.87\n",
       "Sofas & armchairs                      27.0  2004.02  9585.0  2059.25\n",
       "TV & media furniture                    3.0   659.05  4260.0   916.27\n",
       "Tables & desks                          9.0  1129.40  6965.0  1305.21\n",
       "Trolleys                               39.0   678.52  2295.0   658.90\n",
       "Wardrobes                              45.0  2162.14  8380.0  1402.39"
      ]
     },
     "execution_count": 16,
     "metadata": {},
     "output_type": "execute_result"
    }
   ],
   "source": [
    "ikea.groupby(\"category\")[[\"price\"]].agg([\"min\",\"mean\",\"max\",\"std\"]).apply(lambda x: round(x,2))\n"
   ]
  },
  {
   "cell_type": "code",
   "execution_count": 17,
   "metadata": {},
   "outputs": [
    {
     "data": {
      "image/png": "[encoded data removed]",
      "text/plain": [
       "<Figure size 504x360 with 1 Axes>"
      ]
     },
     "metadata": {},
     "output_type": "display_data"
    }
   ],
   "source": [
    "plt.figure(figsize=(7, 5))\n",
    "\n",
    "plt.scatter(x=\"category\",y=\"price\", color=\"#357960\",alpha= 0.3, data=ikea)\n",
    "\n",
    "plt.ylabel(\"Price (SR)\")\n",
    "plt.xlabel(\"Category\")\n",
    "plt.xticks(rotation= 90)\n",
    "plt.title(\"Category vs. Price\")\n",
    "plt.show()"
   ]
  },
  {
   "cell_type": "markdown",
   "metadata": {},
   "source": [
    "##### size columns"
   ]
  },
  {
   "cell_type": "code",
   "execution_count": 18,
   "metadata": {},
   "outputs": [
    {
     "name": "stdout",
     "output_type": "stream",
     "text": [
      "the percentage of the missing values in each column are:\n"
     ]
    },
    {
     "data": {
      "text/plain": [
       "depth     39.604764\n",
       "height    26.746075\n",
       "width     15.944775\n",
       "dtype: float64"
      ]
     },
     "execution_count": 18,
     "metadata": {},
     "output_type": "execute_result"
    }
   ],
   "source": [
    "print(\"the percentage of the missing values in each column are:\")\n",
    "\n",
    "ikea[[\"depth\",\"height\",\"width\"]].isnull().sum() / ikea.shape[0] *100"
   ]
  },
  {
   "cell_type": "code",
   "execution_count": 19,
   "metadata": {},
   "outputs": [
    {
     "data": {
      "text/html": [
       "<div>\n",
       "<style scoped>\n",
       "    .dataframe tbody tr th:only-of-type {\n",
       "        vertical-align: middle;\n",
       "    }\n",
       "\n",
       "    .dataframe tbody tr th {\n",
       "        vertical-align: top;\n",
       "    }\n",
       "\n",
       "    .dataframe thead th {\n",
       "        text-align: right;\n",
       "    }\n",
       "</style>\n",
       "<table border=\"1\" class=\"dataframe\">\n",
       "  <thead>\n",
       "    <tr style=\"text-align: right;\">\n",
       "      <th></th>\n",
       "      <th>short_description</th>\n",
       "      <th>depth</th>\n",
       "      <th>height</th>\n",
       "      <th>width</th>\n",
       "    </tr>\n",
       "  </thead>\n",
       "  <tbody>\n",
       "    <tr>\n",
       "      <th>3</th>\n",
       "      <td>Bar stool with backrest,          74 cm</td>\n",
       "      <td>50.0</td>\n",
       "      <td>100.0</td>\n",
       "      <td>60.0</td>\n",
       "    </tr>\n",
       "  </tbody>\n",
       "</table>\n",
       "</div>"
      ],
      "text/plain": [
       "                                 short_description  depth  height  width\n",
       "3          Bar stool with backrest,          74 cm   50.0   100.0   60.0"
      ]
     },
     "execution_count": 19,
     "metadata": {},
     "output_type": "execute_result"
    }
   ],
   "source": [
    "ikea[[\"short_description\", \"depth\", \"height\", \"width\"]].iloc[[3]]"
   ]
  },
  {
   "cell_type": "markdown",
   "metadata": {},
   "source": [
    "some records are like this one, the dimentions mentiened in the short_description do not match the dimentions in the size columns. This is why these columns are not trusted."
   ]
  },
  {
   "cell_type": "code",
   "execution_count": 20,
   "metadata": {},
   "outputs": [
    {
     "data": {
      "image/png": "[encoded data removed]",
      "text/plain": [
       "<Figure size 504x360 with 1 Axes>"
      ]
     },
     "metadata": {},
     "output_type": "display_data"
    }
   ],
   "source": [
    "plt.scatter(\"depth\",\"price\",color=\"#357960\",alpha= 0.3, data=ikea)\n",
    "plt.ylabel(\"Price (SR)\")\n",
    "plt.xlabel(\"Depth (cm)\")\n",
    "plt.title(\"Depth vs. Price\")\n",
    "plt.show()"
   ]
  },
  {
   "cell_type": "markdown",
   "metadata": {},
   "source": [
    "This graph emply that as the depth of an item increase, its pice incrrease."
   ]
  },
  {
   "cell_type": "code",
   "execution_count": 21,
   "metadata": {},
   "outputs": [
    {
     "data": {
      "image/png": "[encoded data removed]",
      "text/plain": [
       "<Figure size 504x360 with 1 Axes>"
      ]
     },
     "metadata": {},
     "output_type": "display_data"
    }
   ],
   "source": [
    "plt.scatter(\"height\",\"price\",color=\"#357960\",alpha= 0.3, data=ikea)\n",
    "plt.ylabel(\"Price (SR)\")\n",
    "plt.xlabel(\"Height (cm)\")\n",
    "plt.title(\"Height vs. Price\")\n",
    "plt.show()"
   ]
  },
  {
   "cell_type": "code",
   "execution_count": 22,
   "metadata": {},
   "outputs": [
    {
     "data": {
      "image/png": "[encoded data removed]",
      "text/plain": [
       "<Figure size 504x360 with 1 Axes>"
      ]
     },
     "metadata": {},
     "output_type": "display_data"
    }
   ],
   "source": [
    "plt.scatter(\"width\",\"price\",color=\"#357960\",alpha= 0.3, data=ikea)\n",
    "plt.ylabel(\"Price (SR)\")\n",
    "plt.xlabel(\"Width (cm)\")\n",
    "plt.title(\"Width vs. Price\")\n",
    "plt.show()"
   ]
  },
  {
   "cell_type": "markdown",
   "metadata": {},
   "source": [
    "This graph emply that as the width of an item increase, its pice incrrease."
   ]
  },
  {
   "cell_type": "markdown",
   "metadata": {},
   "source": [
    "### summery"
   ]
  },
  {
   "cell_type": "markdown",
   "metadata": {},
   "source": [
    "- The columns: short_description, depth, height and width contradict eachother. Therefore they are excluded from the analysis."
   ]
  },
  {
   "cell_type": "markdown",
   "metadata": {},
   "source": [
    "- the number of items unsellable online is very small (28 items). Therefore, there is no need to investegate this column further."
   ]
  },
  {
   "cell_type": "markdown",
   "metadata": {},
   "source": [
    "- The most interesting questions that could be answered by our data are:\n",
    "    \n",
    "    1. what is the category with highest discounts in Ramadan season?\n",
    "    \n",
    "    2. how big is discaunts for Ramadan?\n"
   ]
  },
  {
   "cell_type": "markdown",
   "metadata": {},
   "source": [
    "\n",
    "- inorder to answer these questions we need to clean old_sales column. \n",
    "\n"
   ]
  },
  {
   "cell_type": "markdown",
   "metadata": {},
   "source": [
    "## cleaning the old_price column"
   ]
  },
  {
   "cell_type": "markdown",
   "metadata": {},
   "source": [
    "records with strange old_price"
   ]
  },
  {
   "cell_type": "code",
   "execution_count": 23,
   "metadata": {},
   "outputs": [
    {
     "data": {
      "text/html": [
       "<div>\n",
       "<style scoped>\n",
       "    .dataframe tbody tr th:only-of-type {\n",
       "        vertical-align: middle;\n",
       "    }\n",
       "\n",
       "    .dataframe tbody tr th {\n",
       "        vertical-align: top;\n",
       "    }\n",
       "\n",
       "    .dataframe thead th {\n",
       "        text-align: right;\n",
       "    }\n",
       "</style>\n",
       "<table border=\"1\" class=\"dataframe\">\n",
       "  <thead>\n",
       "    <tr style=\"text-align: right;\">\n",
       "      <th></th>\n",
       "      <th>item_id</th>\n",
       "      <th>name</th>\n",
       "      <th>category</th>\n",
       "      <th>price</th>\n",
       "      <th>old_price</th>\n",
       "      <th>sellable_online</th>\n",
       "      <th>link</th>\n",
       "      <th>other_colors</th>\n",
       "      <th>short_description</th>\n",
       "      <th>designer</th>\n",
       "      <th>depth</th>\n",
       "      <th>height</th>\n",
       "      <th>width</th>\n",
       "    </tr>\n",
       "  </thead>\n",
       "  <tbody>\n",
       "    <tr>\n",
       "      <th>155</th>\n",
       "      <td>60299691</td>\n",
       "      <td>BRYNILEN</td>\n",
       "      <td>Beds</td>\n",
       "      <td>30.0</td>\n",
       "      <td>SR 50/4 pack</td>\n",
       "      <td>True</td>\n",
       "      <td>https://www.ikea.com/sa/en/p/brynilen-leg-oak-...</td>\n",
       "      <td>No</td>\n",
       "      <td>Leg,          10 cm</td>\n",
       "      <td>Ola Wihlborg</td>\n",
       "      <td>NaN</td>\n",
       "      <td>NaN</td>\n",
       "      <td>NaN</td>\n",
       "    </tr>\n",
       "    <tr>\n",
       "      <th>185</th>\n",
       "      <td>20299688</td>\n",
       "      <td>BRENNÅSEN</td>\n",
       "      <td>Beds</td>\n",
       "      <td>30.0</td>\n",
       "      <td>SR 50/4 pack</td>\n",
       "      <td>True</td>\n",
       "      <td>https://www.ikea.com/sa/en/p/brennasen-leg-bla...</td>\n",
       "      <td>No</td>\n",
       "      <td>Leg,          10 cm</td>\n",
       "      <td>Ola Wihlborg</td>\n",
       "      <td>7.0</td>\n",
       "      <td>NaN</td>\n",
       "      <td>7.0</td>\n",
       "    </tr>\n",
       "    <tr>\n",
       "      <th>191</th>\n",
       "      <td>40299687</td>\n",
       "      <td>BURFJORD</td>\n",
       "      <td>Beds</td>\n",
       "      <td>40.0</td>\n",
       "      <td>SR 50/4 pack</td>\n",
       "      <td>True</td>\n",
       "      <td>https://www.ikea.com/sa/en/p/burfjord-leg-oak-...</td>\n",
       "      <td>No</td>\n",
       "      <td>Leg,          10 cm</td>\n",
       "      <td>Ola Wihlborg</td>\n",
       "      <td>55.0</td>\n",
       "      <td>NaN</td>\n",
       "      <td>55.0</td>\n",
       "    </tr>\n",
       "    <tr>\n",
       "      <th>204</th>\n",
       "      <td>10309616</td>\n",
       "      <td>BÅTSFJORD</td>\n",
       "      <td>Beds</td>\n",
       "      <td>30.0</td>\n",
       "      <td>SR 50/4 pack</td>\n",
       "      <td>True</td>\n",
       "      <td>https://www.ikea.com/sa/en/p/batsfjord-leg-bir...</td>\n",
       "      <td>No</td>\n",
       "      <td>Leg,          10 cm</td>\n",
       "      <td>Ehlén Johansson</td>\n",
       "      <td>NaN</td>\n",
       "      <td>NaN</td>\n",
       "      <td>NaN</td>\n",
       "    </tr>\n",
       "    <tr>\n",
       "      <th>222</th>\n",
       "      <td>70299695</td>\n",
       "      <td>BJORLI</td>\n",
       "      <td>Beds</td>\n",
       "      <td>40.0</td>\n",
       "      <td>SR 50/4 pack</td>\n",
       "      <td>True</td>\n",
       "      <td>https://www.ikea.com/sa/en/p/bjorli-leg-stainl...</td>\n",
       "      <td>Yes</td>\n",
       "      <td>Leg,          10 cm</td>\n",
       "      <td>Ola Wihlborg</td>\n",
       "      <td>NaN</td>\n",
       "      <td>NaN</td>\n",
       "      <td>NaN</td>\n",
       "    </tr>\n",
       "  </tbody>\n",
       "</table>\n",
       "</div>"
      ],
      "text/plain": [
       "      item_id       name category  price     old_price  sellable_online  \\\n",
       "155  60299691   BRYNILEN     Beds   30.0  SR 50/4 pack             True   \n",
       "185  20299688  BRENNÅSEN     Beds   30.0  SR 50/4 pack             True   \n",
       "191  40299687   BURFJORD     Beds   40.0  SR 50/4 pack             True   \n",
       "204  10309616  BÅTSFJORD     Beds   30.0  SR 50/4 pack             True   \n",
       "222  70299695     BJORLI     Beds   40.0  SR 50/4 pack             True   \n",
       "\n",
       "                                                  link other_colors  \\\n",
       "155  https://www.ikea.com/sa/en/p/brynilen-leg-oak-...           No   \n",
       "185  https://www.ikea.com/sa/en/p/brennasen-leg-bla...           No   \n",
       "191  https://www.ikea.com/sa/en/p/burfjord-leg-oak-...           No   \n",
       "204  https://www.ikea.com/sa/en/p/batsfjord-leg-bir...           No   \n",
       "222  https://www.ikea.com/sa/en/p/bjorli-leg-stainl...          Yes   \n",
       "\n",
       "               short_description         designer  depth  height  width  \n",
       "155          Leg,          10 cm     Ola Wihlborg    NaN     NaN    NaN  \n",
       "185          Leg,          10 cm     Ola Wihlborg    7.0     NaN    7.0  \n",
       "191          Leg,          10 cm     Ola Wihlborg   55.0     NaN   55.0  \n",
       "204          Leg,          10 cm  Ehlén Johansson    NaN     NaN    NaN  \n",
       "222          Leg,          10 cm     Ola Wihlborg    NaN     NaN    NaN  "
      ]
     },
     "execution_count": 23,
     "metadata": {},
     "output_type": "execute_result"
    }
   ],
   "source": [
    "ikea[ikea.old_price.isin([\"SR 50/4 pack\"])]"
   ]
  },
  {
   "cell_type": "code",
   "execution_count": 24,
   "metadata": {},
   "outputs": [
    {
     "data": {
      "text/html": [
       "<div>\n",
       "<style scoped>\n",
       "    .dataframe tbody tr th:only-of-type {\n",
       "        vertical-align: middle;\n",
       "    }\n",
       "\n",
       "    .dataframe tbody tr th {\n",
       "        vertical-align: top;\n",
       "    }\n",
       "\n",
       "    .dataframe thead th {\n",
       "        text-align: right;\n",
       "    }\n",
       "</style>\n",
       "<table border=\"1\" class=\"dataframe\">\n",
       "  <thead>\n",
       "    <tr style=\"text-align: right;\">\n",
       "      <th></th>\n",
       "      <th>price</th>\n",
       "      <th>old_price</th>\n",
       "    </tr>\n",
       "  </thead>\n",
       "  <tbody>\n",
       "    <tr>\n",
       "      <th>0</th>\n",
       "      <td>265.0</td>\n",
       "      <td>No old price</td>\n",
       "    </tr>\n",
       "    <tr>\n",
       "      <th>1</th>\n",
       "      <td>995.0</td>\n",
       "      <td>No old price</td>\n",
       "    </tr>\n",
       "    <tr>\n",
       "      <th>2</th>\n",
       "      <td>2095.0</td>\n",
       "      <td>No old price</td>\n",
       "    </tr>\n",
       "    <tr>\n",
       "      <th>3</th>\n",
       "      <td>69.0</td>\n",
       "      <td>No old price</td>\n",
       "    </tr>\n",
       "    <tr>\n",
       "      <th>4</th>\n",
       "      <td>225.0</td>\n",
       "      <td>No old price</td>\n",
       "    </tr>\n",
       "    <tr>\n",
       "      <th>5</th>\n",
       "      <td>345.0</td>\n",
       "      <td>No old price</td>\n",
       "    </tr>\n",
       "    <tr>\n",
       "      <th>6</th>\n",
       "      <td>129.0</td>\n",
       "      <td>No old price</td>\n",
       "    </tr>\n",
       "    <tr>\n",
       "      <th>7</th>\n",
       "      <td>195.0</td>\n",
       "      <td>No old price</td>\n",
       "    </tr>\n",
       "    <tr>\n",
       "      <th>8</th>\n",
       "      <td>129.0</td>\n",
       "      <td>No old price</td>\n",
       "    </tr>\n",
       "    <tr>\n",
       "      <th>9</th>\n",
       "      <td>2176.0</td>\n",
       "      <td>SR 2,375</td>\n",
       "    </tr>\n",
       "    <tr>\n",
       "      <th>10</th>\n",
       "      <td>149.0</td>\n",
       "      <td>No old price</td>\n",
       "    </tr>\n",
       "  </tbody>\n",
       "</table>\n",
       "</div>"
      ],
      "text/plain": [
       "     price     old_price\n",
       "0    265.0  No old price\n",
       "1    995.0  No old price\n",
       "2   2095.0  No old price\n",
       "3     69.0  No old price\n",
       "4    225.0  No old price\n",
       "5    345.0  No old price\n",
       "6    129.0  No old price\n",
       "7    195.0  No old price\n",
       "8    129.0  No old price\n",
       "9   2176.0      SR 2,375\n",
       "10   149.0  No old price"
      ]
     },
     "execution_count": 24,
     "metadata": {},
     "output_type": "execute_result"
    }
   ],
   "source": [
    "ikea[[\"price\", \"old_price\"]].head(11)"
   ]
  },
  {
   "cell_type": "code",
   "execution_count": 25,
   "metadata": {},
   "outputs": [
    {
     "name": "stdout",
     "output_type": "stream",
     "text": [
      "['SR', '50/4', 'pack']\n",
      "['SR', '50/4', 'pack']\n",
      "['SR', '50/4', 'pack']\n",
      "['SR', '50/4', 'pack']\n",
      "['SR', '50/4', 'pack']\n",
      "['SR', '10/4', 'pack']\n",
      "['SR', '445/2', 'pack']\n",
      "['SR', '100/4', 'pack']\n",
      "['SR', '175/2', 'pack']\n",
      "['SR', '100/4', 'pack']\n",
      "Those are the unexpected old_price values, (will be replaced by NaN)\n"
     ]
    }
   ],
   "source": [
    "def to_floatt(x):\n",
    "\n",
    "    if(x[1] != \"No old price\"):\n",
    "        \n",
    "        y= x[1].split()\n",
    "        if y[1].isnumeric():\n",
    "            return(float(y[1]))\n",
    "        elif \",\" in y[1]:\n",
    "            return(float(\"\".join(y[1].split(\",\"))))\n",
    "        else: \n",
    "            print(y)\n",
    "    else:\n",
    "        return(x[0])\n",
    "\n",
    "\n",
    "\n",
    "ikea.old_price = ikea[[\"price\",\"old_price\"]].apply(lambda x: to_floatt(x), axis= 1)\n",
    "\n",
    "print(\"Those are the unexpected old_price values, (will be replaced by NaN)\")"
   ]
  },
  {
   "cell_type": "code",
   "execution_count": 26,
   "metadata": {},
   "outputs": [
    {
     "data": {
      "text/html": [
       "<div>\n",
       "<style scoped>\n",
       "    .dataframe tbody tr th:only-of-type {\n",
       "        vertical-align: middle;\n",
       "    }\n",
       "\n",
       "    .dataframe tbody tr th {\n",
       "        vertical-align: top;\n",
       "    }\n",
       "\n",
       "    .dataframe thead th {\n",
       "        text-align: right;\n",
       "    }\n",
       "</style>\n",
       "<table border=\"1\" class=\"dataframe\">\n",
       "  <thead>\n",
       "    <tr style=\"text-align: right;\">\n",
       "      <th></th>\n",
       "      <th>price</th>\n",
       "      <th>old_price</th>\n",
       "    </tr>\n",
       "  </thead>\n",
       "  <tbody>\n",
       "    <tr>\n",
       "      <th>0</th>\n",
       "      <td>265.0</td>\n",
       "      <td>265.0</td>\n",
       "    </tr>\n",
       "    <tr>\n",
       "      <th>1</th>\n",
       "      <td>995.0</td>\n",
       "      <td>995.0</td>\n",
       "    </tr>\n",
       "    <tr>\n",
       "      <th>2</th>\n",
       "      <td>2095.0</td>\n",
       "      <td>2095.0</td>\n",
       "    </tr>\n",
       "    <tr>\n",
       "      <th>3</th>\n",
       "      <td>69.0</td>\n",
       "      <td>69.0</td>\n",
       "    </tr>\n",
       "    <tr>\n",
       "      <th>4</th>\n",
       "      <td>225.0</td>\n",
       "      <td>225.0</td>\n",
       "    </tr>\n",
       "    <tr>\n",
       "      <th>5</th>\n",
       "      <td>345.0</td>\n",
       "      <td>345.0</td>\n",
       "    </tr>\n",
       "    <tr>\n",
       "      <th>6</th>\n",
       "      <td>129.0</td>\n",
       "      <td>129.0</td>\n",
       "    </tr>\n",
       "    <tr>\n",
       "      <th>7</th>\n",
       "      <td>195.0</td>\n",
       "      <td>195.0</td>\n",
       "    </tr>\n",
       "    <tr>\n",
       "      <th>8</th>\n",
       "      <td>129.0</td>\n",
       "      <td>129.0</td>\n",
       "    </tr>\n",
       "    <tr>\n",
       "      <th>9</th>\n",
       "      <td>2176.0</td>\n",
       "      <td>2375.0</td>\n",
       "    </tr>\n",
       "    <tr>\n",
       "      <th>10</th>\n",
       "      <td>149.0</td>\n",
       "      <td>149.0</td>\n",
       "    </tr>\n",
       "  </tbody>\n",
       "</table>\n",
       "</div>"
      ],
      "text/plain": [
       "     price  old_price\n",
       "0    265.0      265.0\n",
       "1    995.0      995.0\n",
       "2   2095.0     2095.0\n",
       "3     69.0       69.0\n",
       "4    225.0      225.0\n",
       "5    345.0      345.0\n",
       "6    129.0      129.0\n",
       "7    195.0      195.0\n",
       "8    129.0      129.0\n",
       "9   2176.0     2375.0\n",
       "10   149.0      149.0"
      ]
     },
     "execution_count": 26,
     "metadata": {},
     "output_type": "execute_result"
    }
   ],
   "source": [
    "ikea[[\"price\", \"old_price\"]].head(11)"
   ]
  },
  {
   "cell_type": "markdown",
   "metadata": {},
   "source": [
    "## Analysis"
   ]
  },
  {
   "cell_type": "code",
   "execution_count": 27,
   "metadata": {},
   "outputs": [
    {
     "data": {
      "text/html": [
       "<div>\n",
       "<style scoped>\n",
       "    .dataframe tbody tr th:only-of-type {\n",
       "        vertical-align: middle;\n",
       "    }\n",
       "\n",
       "    .dataframe tbody tr th {\n",
       "        vertical-align: top;\n",
       "    }\n",
       "\n",
       "    .dataframe thead th {\n",
       "        text-align: right;\n",
       "    }\n",
       "</style>\n",
       "<table border=\"1\" class=\"dataframe\">\n",
       "  <thead>\n",
       "    <tr style=\"text-align: right;\">\n",
       "      <th></th>\n",
       "      <th>old_price</th>\n",
       "      <th>price</th>\n",
       "      <th>discount_percentage</th>\n",
       "    </tr>\n",
       "  </thead>\n",
       "  <tbody>\n",
       "    <tr>\n",
       "      <th>0</th>\n",
       "      <td>265.0</td>\n",
       "      <td>265.0</td>\n",
       "      <td>0.00</td>\n",
       "    </tr>\n",
       "    <tr>\n",
       "      <th>1</th>\n",
       "      <td>995.0</td>\n",
       "      <td>995.0</td>\n",
       "      <td>0.00</td>\n",
       "    </tr>\n",
       "    <tr>\n",
       "      <th>2</th>\n",
       "      <td>2095.0</td>\n",
       "      <td>2095.0</td>\n",
       "      <td>0.00</td>\n",
       "    </tr>\n",
       "    <tr>\n",
       "      <th>3</th>\n",
       "      <td>69.0</td>\n",
       "      <td>69.0</td>\n",
       "      <td>0.00</td>\n",
       "    </tr>\n",
       "    <tr>\n",
       "      <th>4</th>\n",
       "      <td>225.0</td>\n",
       "      <td>225.0</td>\n",
       "      <td>0.00</td>\n",
       "    </tr>\n",
       "    <tr>\n",
       "      <th>5</th>\n",
       "      <td>345.0</td>\n",
       "      <td>345.0</td>\n",
       "      <td>0.00</td>\n",
       "    </tr>\n",
       "    <tr>\n",
       "      <th>6</th>\n",
       "      <td>129.0</td>\n",
       "      <td>129.0</td>\n",
       "      <td>0.00</td>\n",
       "    </tr>\n",
       "    <tr>\n",
       "      <th>7</th>\n",
       "      <td>195.0</td>\n",
       "      <td>195.0</td>\n",
       "      <td>0.00</td>\n",
       "    </tr>\n",
       "    <tr>\n",
       "      <th>8</th>\n",
       "      <td>129.0</td>\n",
       "      <td>129.0</td>\n",
       "      <td>0.00</td>\n",
       "    </tr>\n",
       "    <tr>\n",
       "      <th>9</th>\n",
       "      <td>2375.0</td>\n",
       "      <td>2176.0</td>\n",
       "      <td>8.38</td>\n",
       "    </tr>\n",
       "  </tbody>\n",
       "</table>\n",
       "</div>"
      ],
      "text/plain": [
       "   old_price   price  discount_percentage\n",
       "0      265.0   265.0                 0.00\n",
       "1      995.0   995.0                 0.00\n",
       "2     2095.0  2095.0                 0.00\n",
       "3       69.0    69.0                 0.00\n",
       "4      225.0   225.0                 0.00\n",
       "5      345.0   345.0                 0.00\n",
       "6      129.0   129.0                 0.00\n",
       "7      195.0   195.0                 0.00\n",
       "8      129.0   129.0                 0.00\n",
       "9     2375.0  2176.0                 8.38"
      ]
     },
     "execution_count": 27,
     "metadata": {},
     "output_type": "execute_result"
    }
   ],
   "source": [
    "ikea[\"discount_percentage\"] = ikea[[\"price\", \"old_price\"]].apply(lambda x: round((x[1] - x[0])/x[1] *100, 2), axis = 1)\n",
    "ikea[[\"old_price\", \"price\", \"discount_percentage\"]].head(10)"
   ]
  },
  {
   "cell_type": "code",
   "execution_count": 28,
   "metadata": {},
   "outputs": [
    {
     "name": "stdout",
     "output_type": "stream",
     "text": [
      "a discounted item is discounted on average by 18.51%\n"
     ]
    }
   ],
   "source": [
    "print(f\"a discounted item is discounted on average by {round(ikea[ikea.discount_percentage > 0].discount_percentage.mean(), 2)}%\")\n"
   ]
  },
  {
   "cell_type": "code",
   "execution_count": 29,
   "metadata": {},
   "outputs": [
    {
     "data": {
      "text/html": [
       "<div>\n",
       "<style scoped>\n",
       "    .dataframe tbody tr th:only-of-type {\n",
       "        vertical-align: middle;\n",
       "    }\n",
       "\n",
       "    .dataframe tbody tr th {\n",
       "        vertical-align: top;\n",
       "    }\n",
       "\n",
       "    .dataframe thead tr th {\n",
       "        text-align: left;\n",
       "    }\n",
       "\n",
       "    .dataframe thead tr:last-of-type th {\n",
       "        text-align: right;\n",
       "    }\n",
       "</style>\n",
       "<table border=\"1\" class=\"dataframe\">\n",
       "  <thead>\n",
       "    <tr>\n",
       "      <th></th>\n",
       "      <th colspan=\"3\" halign=\"left\">discount_percentage</th>\n",
       "    </tr>\n",
       "    <tr>\n",
       "      <th></th>\n",
       "      <th>count</th>\n",
       "      <th>mean</th>\n",
       "      <th>max</th>\n",
       "    </tr>\n",
       "    <tr>\n",
       "      <th>category</th>\n",
       "      <th></th>\n",
       "      <th></th>\n",
       "      <th></th>\n",
       "    </tr>\n",
       "  </thead>\n",
       "  <tbody>\n",
       "    <tr>\n",
       "      <th>Bar furniture</th>\n",
       "      <td>9</td>\n",
       "      <td>15.84</td>\n",
       "      <td>40.0</td>\n",
       "    </tr>\n",
       "    <tr>\n",
       "      <th>Beds</th>\n",
       "      <td>45</td>\n",
       "      <td>16.13</td>\n",
       "      <td>40.0</td>\n",
       "    </tr>\n",
       "    <tr>\n",
       "      <th>Bookcases &amp; shelving units</th>\n",
       "      <td>79</td>\n",
       "      <td>18.43</td>\n",
       "      <td>40.0</td>\n",
       "    </tr>\n",
       "    <tr>\n",
       "      <th>Cabinets &amp; cupboards</th>\n",
       "      <td>24</td>\n",
       "      <td>19.24</td>\n",
       "      <td>40.0</td>\n",
       "    </tr>\n",
       "    <tr>\n",
       "      <th>Café furniture</th>\n",
       "      <td>3</td>\n",
       "      <td>20.00</td>\n",
       "      <td>20.0</td>\n",
       "    </tr>\n",
       "    <tr>\n",
       "      <th>Chairs</th>\n",
       "      <td>68</td>\n",
       "      <td>17.09</td>\n",
       "      <td>40.0</td>\n",
       "    </tr>\n",
       "    <tr>\n",
       "      <th>Chests of drawers &amp; drawer units</th>\n",
       "      <td>53</td>\n",
       "      <td>19.16</td>\n",
       "      <td>30.0</td>\n",
       "    </tr>\n",
       "    <tr>\n",
       "      <th>Children's furniture</th>\n",
       "      <td>4</td>\n",
       "      <td>18.32</td>\n",
       "      <td>20.0</td>\n",
       "    </tr>\n",
       "    <tr>\n",
       "      <th>Nursery furniture</th>\n",
       "      <td>2</td>\n",
       "      <td>20.00</td>\n",
       "      <td>20.0</td>\n",
       "    </tr>\n",
       "    <tr>\n",
       "      <th>Outdoor furniture</th>\n",
       "      <td>40</td>\n",
       "      <td>25.23</td>\n",
       "      <td>40.0</td>\n",
       "    </tr>\n",
       "    <tr>\n",
       "      <th>Room dividers</th>\n",
       "      <td>5</td>\n",
       "      <td>23.67</td>\n",
       "      <td>40.0</td>\n",
       "    </tr>\n",
       "    <tr>\n",
       "      <th>Sideboards, buffets &amp; console tables</th>\n",
       "      <td>1</td>\n",
       "      <td>20.00</td>\n",
       "      <td>20.0</td>\n",
       "    </tr>\n",
       "    <tr>\n",
       "      <th>Sofas &amp; armchairs</th>\n",
       "      <td>114</td>\n",
       "      <td>19.81</td>\n",
       "      <td>40.0</td>\n",
       "    </tr>\n",
       "    <tr>\n",
       "      <th>TV &amp; media furniture</th>\n",
       "      <td>19</td>\n",
       "      <td>13.46</td>\n",
       "      <td>40.0</td>\n",
       "    </tr>\n",
       "    <tr>\n",
       "      <th>Tables &amp; desks</th>\n",
       "      <td>94</td>\n",
       "      <td>16.67</td>\n",
       "      <td>40.0</td>\n",
       "    </tr>\n",
       "    <tr>\n",
       "      <th>Trolleys</th>\n",
       "      <td>2</td>\n",
       "      <td>35.00</td>\n",
       "      <td>40.0</td>\n",
       "    </tr>\n",
       "    <tr>\n",
       "      <th>Wardrobes</th>\n",
       "      <td>82</td>\n",
       "      <td>18.11</td>\n",
       "      <td>50.0</td>\n",
       "    </tr>\n",
       "  </tbody>\n",
       "</table>\n",
       "</div>"
      ],
      "text/plain": [
       "                                     discount_percentage             \n",
       "                                                   count   mean   max\n",
       "category                                                             \n",
       "Bar furniture                                          9  15.84  40.0\n",
       "Beds                                                  45  16.13  40.0\n",
       "Bookcases & shelving units                            79  18.43  40.0\n",
       "Cabinets & cupboards                                  24  19.24  40.0\n",
       "Café furniture                                         3  20.00  20.0\n",
       "Chairs                                                68  17.09  40.0\n",
       "Chests of drawers & drawer units                      53  19.16  30.0\n",
       "Children's furniture                                   4  18.32  20.0\n",
       "Nursery furniture                                      2  20.00  20.0\n",
       "Outdoor furniture                                     40  25.23  40.0\n",
       "Room dividers                                          5  23.67  40.0\n",
       "Sideboards, buffets & console tables                   1  20.00  20.0\n",
       "Sofas & armchairs                                    114  19.81  40.0\n",
       "TV & media furniture                                  19  13.46  40.0\n",
       "Tables & desks                                        94  16.67  40.0\n",
       "Trolleys                                               2  35.00  40.0\n",
       "Wardrobes                                             82  18.11  50.0"
      ]
     },
     "execution_count": 29,
     "metadata": {},
     "output_type": "execute_result"
    }
   ],
   "source": [
    "ikea[ikea.discount_percentage > 0].groupby(\"category\")[[\"discount_percentage\"]].agg([\"count\",\"mean\",\"max\"]).apply(lambda x: round(x,2))\n"
   ]
  },
  {
   "cell_type": "markdown",
   "metadata": {},
   "source": [
    "This table describes the discounted items in each category by showing:\n",
    "\n",
    "- the number of discounted item(s) in each category under \"count\" column.\n",
    "- the average discount percentage of the discounted item(s) in each category under \"mean\" column.\n",
    "- the maximum discount percentage in each category."
   ]
  },
  {
   "cell_type": "markdown",
   "metadata": {},
   "source": [
    "## conclusion"
   ]
  },
  {
   "cell_type": "markdown",
   "metadata": {},
   "source": [
    "Based on our data the holy month of Ramadan was a discounts season for IKEA in Saudi Arabia.\n",
    "- 17.7% of the items was discaunted.\n",
    "- on average a discounted item is discounted by 18.51%.\n",
    "\n"
   ]
  }
 ],
 "metadata": {
  "interpreter": {
   "hash": "d4d1e4263499bec80672ea0156c357c1ee493ec2b1c70f0acce89fc37c4a6abe"
  },
  "kernelspec": {
   "display_name": "Python 3.8.8 64-bit ('base': conda)",
   "language": "python",
   "name": "python3"
  },
  "language_info": {
   "codemirror_mode": {
    "name": "ipython",
    "version": 3
   },
   "file_extension": ".py",
   "mimetype": "text/x-python",
   "name": "python",
   "nbconvert_exporter": "python",
   "pygments_lexer": "ipython3",
   "version": "3.8.8"
  },
  "orig_nbformat": 4
 },
 "nbformat": 4,
 "nbformat_minor": 2
}
